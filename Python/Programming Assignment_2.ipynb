{
 "cells": [
  {
   "cell_type": "code",
   "execution_count": null,
   "id": "75aabec3",
   "metadata": {
    "id": "08c66ea5"
   },
   "outputs": [],
   "source": [
    "## Programming Assignment_2\n",
    "-------------"
   ]
  },
  {
   "cell_type": "code",
   "execution_count": 7,
   "id": "55070a7d",
   "metadata": {
    "id": "4e50cf42"
   },
   "outputs": [
    {
     "name": "stdout",
     "output_type": "stream",
     "text": [
      "please enter Kilometers: 1\n",
      "1 Kms =  0.621371192237334 miles\n"
     ]
    }
   ],
   "source": [
    "### 1. Write a Python program to convert kilometers to miles?\n",
    "\n",
    "Kms = eval(input(\"please enter Kilometers: \"))\n",
    "miles = Kms/1.609344\n",
    "print(Kms,\"Kms = \",miles,\"miles\")"
   ]
  },
  {
   "cell_type": "code",
   "execution_count": 11,
   "id": "e17947a4",
   "metadata": {
    "id": "0df4e6bf"
   },
   "outputs": [
    {
     "name": "stdout",
     "output_type": "stream",
     "text": [
      "Please enter the Temperature: 25\n",
      "25 celsius = 77.0 fahrenheit\n"
     ]
    }
   ],
   "source": [
    "### 2.Write a Python program to convert Celsius to Fahrenheit?\n",
    "\n",
    "Temp_celsius  = eval(input(\"Please enter the Temperature: \"))\n",
    "Temp_fahrenheit = Temp_celsius * (9/5) + 32\n",
    "print(Temp_celsius,\"celsius =\",Temp_fahrenheit,\"fahrenheit\")"
   ]
  },
  {
   "cell_type": "code",
   "execution_count": 43,
   "id": "d3bd93c3",
   "metadata": {
    "id": "46129b8e"
   },
   "outputs": [
    {
     "name": "stdout",
     "output_type": "stream",
     "text": [
      "Please enter the year to get the calendar:2012\n",
      "   February 2012\n",
      "Mo Tu We Th Fr Sa Su\n",
      "       1  2  3  4  5\n",
      " 6  7  8  9 10 11 12\n",
      "13 14 15 16 17 18 19\n",
      "20 21 22 23 24 25 26\n",
      "27 28 29\n",
      "\n",
      "                                  2012\n",
      "\n",
      "      January                   February                   March\n",
      "Mo Tu We Th Fr Sa Su      Mo Tu We Th Fr Sa Su      Mo Tu We Th Fr Sa Su\n",
      "                   1             1  2  3  4  5                1  2  3  4\n",
      " 2  3  4  5  6  7  8       6  7  8  9 10 11 12       5  6  7  8  9 10 11\n",
      " 9 10 11 12 13 14 15      13 14 15 16 17 18 19      12 13 14 15 16 17 18\n",
      "16 17 18 19 20 21 22      20 21 22 23 24 25 26      19 20 21 22 23 24 25\n",
      "23 24 25 26 27 28 29      27 28 29                  26 27 28 29 30 31\n",
      "30 31\n",
      "\n",
      "       April                      May                       June\n",
      "Mo Tu We Th Fr Sa Su      Mo Tu We Th Fr Sa Su      Mo Tu We Th Fr Sa Su\n",
      "                   1          1  2  3  4  5  6                   1  2  3\n",
      " 2  3  4  5  6  7  8       7  8  9 10 11 12 13       4  5  6  7  8  9 10\n",
      " 9 10 11 12 13 14 15      14 15 16 17 18 19 20      11 12 13 14 15 16 17\n",
      "16 17 18 19 20 21 22      21 22 23 24 25 26 27      18 19 20 21 22 23 24\n",
      "23 24 25 26 27 28 29      28 29 30 31               25 26 27 28 29 30\n",
      "30\n",
      "\n",
      "        July                     August                  September\n",
      "Mo Tu We Th Fr Sa Su      Mo Tu We Th Fr Sa Su      Mo Tu We Th Fr Sa Su\n",
      "                   1             1  2  3  4  5                      1  2\n",
      " 2  3  4  5  6  7  8       6  7  8  9 10 11 12       3  4  5  6  7  8  9\n",
      " 9 10 11 12 13 14 15      13 14 15 16 17 18 19      10 11 12 13 14 15 16\n",
      "16 17 18 19 20 21 22      20 21 22 23 24 25 26      17 18 19 20 21 22 23\n",
      "23 24 25 26 27 28 29      27 28 29 30 31            24 25 26 27 28 29 30\n",
      "30 31\n",
      "\n",
      "      October                   November                  December\n",
      "Mo Tu We Th Fr Sa Su      Mo Tu We Th Fr Sa Su      Mo Tu We Th Fr Sa Su\n",
      " 1  2  3  4  5  6  7                1  2  3  4                      1  2\n",
      " 8  9 10 11 12 13 14       5  6  7  8  9 10 11       3  4  5  6  7  8  9\n",
      "15 16 17 18 19 20 21      12 13 14 15 16 17 18      10 11 12 13 14 15 16\n",
      "22 23 24 25 26 27 28      19 20 21 22 23 24 25      17 18 19 20 21 22 23\n",
      "29 30 31                  26 27 28 29 30            24 25 26 27 28 29 30\n",
      "                                                    31\n",
      "\n"
     ]
    }
   ],
   "source": [
    "### 3. Write a Python program to display calendar?\n",
    "\n",
    "import calendar\n",
    "year = eval(input(\"Please enter the year to get the calendar:\"))    \n",
    "print(calendar.month(year,2)) # prints calendar specific month of specified Year\n",
    "print(calendar.calendar(year)) # prints calendar of whole year\n"
   ]
  },
  {
   "cell_type": "code",
   "execution_count": 45,
   "id": "7aa2c823",
   "metadata": {
    "id": "db2bf0f7"
   },
   "outputs": [
    {
     "name": "stdout",
     "output_type": "stream",
     "text": [
      "Please enter 'a' Value:4\n",
      "Please enter 'b' Value:5\n",
      "Please enter 'c' Value:6\n",
      "\n",
      "Roots are Complex numbers\n",
      "Root 1: -10.000+16.852j \n",
      "Root 2:  -10.000-16.852j\n"
     ]
    }
   ],
   "source": [
    "### 4. Write a Python program to solve quadratic equation?\n",
    "\n",
    "a = eval(input(\"Please enter 'a' Value:\"))\n",
    "b = eval(input(\"Please enter 'b' Value:\"))\n",
    "c = eval(input(\"Please enter 'c' Value:\"))\n",
    "\n",
    "underrootvalue = b*b-4*a*c\n",
    "\n",
    "if underrootvalue < 0:\n",
    "    print(\"\\nRoots are Complex numbers\")\n",
    "    root1 = (-b+(underrootvalue)**0.5)/2*a\n",
    "    root2 = (-b-(underrootvalue)**0.5)/2*a\n",
    "    print(\"Root 1: {:.3f} \\nRoot 2:  {:.3f}\".format(root1,root2))\n",
    "elif underrootvalue == 0:\n",
    "    print(\"\\nBoth roots are same\")\n",
    "    root1 = root2 = -b/2*a\n",
    "    print(\"Root 1: {:.3f} \\nRoot 2:  {:.3f}\".format(root1,root2))\n",
    "else:\n",
    "    print(\"\\nRoots are Real numbers\")\n",
    "    root1 = (-b+(underrootvalue)**0.5)/2*a\n",
    "    root2 = (-b-(underrootvalue)**0.5)/2*a\n",
    "    print(\"Root 1: {:.3f} \\nRoot 2:  {:.3f}\".format(root1,root2))"
   ]
  },
  {
   "cell_type": "code",
   "execution_count": 29,
   "id": "07da88b7",
   "metadata": {
    "id": "f70f74c9"
   },
   "outputs": [
    {
     "name": "stdout",
     "output_type": "stream",
     "text": [
      "Actual Variables: Var1= First Name & Var2= Last Name\n",
      "After Swapping: Var1= Last Name & Var2= First Name\n"
     ]
    }
   ],
   "source": [
    "### 5. Write a Python program to swap two variables without temp variable?\n",
    "\n",
    "Var1 = \"First Name\"\n",
    "Var2 = \"Last Name\"\n",
    "\n",
    "print(\"Actual Variables: Var1=\",Var1,\"& Var2=\",Var2)\n",
    "Var1,Var2 = Var2,Var1\n",
    "print(\"After Swapping: Var1=\",Var1,\"& Var2=\",Var2)"
   ]
  },
  {
   "cell_type": "code",
   "execution_count": null,
   "id": "3880ffc9",
   "metadata": {},
   "outputs": [],
   "source": []
  }
 ],
 "metadata": {
  "colab": {
   "provenance": []
  },
  "kernelspec": {
   "display_name": "Python 3 (ipykernel)",
   "language": "python",
   "name": "python3"
  },
  "language_info": {
   "codemirror_mode": {
    "name": "ipython",
    "version": 3
   },
   "file_extension": ".py",
   "mimetype": "text/x-python",
   "name": "python",
   "nbconvert_exporter": "python",
   "pygments_lexer": "ipython3",
   "version": "3.9.13"
  }
 },
 "nbformat": 4,
 "nbformat_minor": 5
}
