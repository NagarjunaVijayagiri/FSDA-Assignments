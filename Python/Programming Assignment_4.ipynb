{
 "cells": [
  {
   "cell_type": "code",
   "execution_count": null,
   "id": "2234ec7a",
   "metadata": {
    "id": "20cb4340"
   },
   "outputs": [],
   "source": [
    "## Programming Assignment_4\n",
    "----------------"
   ]
  },
  {
   "cell_type": "code",
   "execution_count": 20,
   "id": "2062541a",
   "metadata": {
    "id": "4fdb6695"
   },
   "outputs": [
    {
     "name": "stdout",
     "output_type": "stream",
     "text": [
      "Please enter a number:6\n",
      "720\n"
     ]
    }
   ],
   "source": [
    "### 1. Write a Python Program to Find the Factorial of a Number?\n",
    "\n",
    "#using loops\n",
    "num = eval(input(\"Please enter a number:\"))\n",
    "fact = num\n",
    "for i in range(2,num+1):\n",
    "        fact = fact * (i-1)\n",
    "print(num,\" factorial is:\",fact)\n",
    "\n"
   ]
  },
  {
   "cell_type": "code",
   "execution_count": 5,
   "id": "hOeAnUwS8YPP",
   "metadata": {
    "id": "hOeAnUwS8YPP"
   },
   "outputs": [
    {
     "name": "stdout",
     "output_type": "stream",
     "text": [
      "Please enter a number:5\n",
      "5  factorial is: 120\n"
     ]
    }
   ],
   "source": [
    "# using recrusive function\n",
    "num = eval(input(\"Please enter a number:\"))\n",
    "def factorial(n):\n",
    "    if n<=1:\n",
    "        return 1\n",
    "    else:\n",
    "        return (n * factorial(n-1))\n",
    "\n",
    "print(num,\" factorial is:\",factorial(num))"
   ]
  },
  {
   "cell_type": "code",
   "execution_count": 3,
   "id": "8a4090e7",
   "metadata": {
    "id": "e6beef62"
   },
   "outputs": [],
   "source": [
    "### 2. Write a Python Program to Display the multiplication Table?"
   ]
  },
  {
   "cell_type": "code",
   "execution_count": 4,
   "id": "KRlnRPqETMOx",
   "metadata": {
    "id": "KRlnRPqETMOx"
   },
   "outputs": [
    {
     "name": "stdout",
     "output_type": "stream",
     "text": [
      "Welcome to Multiplication Table \n",
      " Please enter a number to see the table: 5\n",
      "5 * 1 = 5\n",
      "5 * 2 = 10\n",
      "5 * 3 = 15\n",
      "5 * 4 = 20\n",
      "5 * 5 = 25\n",
      "5 * 6 = 30\n",
      "5 * 7 = 35\n",
      "5 * 8 = 40\n",
      "5 * 9 = 45\n",
      "5 * 10 = 50\n"
     ]
    }
   ],
   "source": [
    "num = eval(input(\"Welcome to Multiplication Table \\n Please enter a number to see the table: \"))\n",
    "\n",
    "for i in range(1,10+1):\n",
    "    print(num,\"*\",i,\"=\",num*i)"
   ]
  },
  {
   "cell_type": "code",
   "execution_count": null,
   "id": "1c44a189",
   "metadata": {
    "id": "-DGZq5N22z65"
   },
   "outputs": [],
   "source": []
  },
  {
   "cell_type": "code",
   "execution_count": 10,
   "id": "3e6a4c5e",
   "metadata": {
    "id": "7de7eba5"
   },
   "outputs": [
    {
     "name": "stdout",
     "output_type": "stream",
     "text": [
      "Please input a number to find the preceeding fibonacci series:12\n",
      "[0, 1, 1, 2, 3, 5, 8, 13, 21, 34, 55, 89]\n"
     ]
    }
   ],
   "source": [
    "### 3. Write a Python Program to Print the Fibonacci sequence?\n",
    "\n",
    "#using lis & loop\n",
    "series = []\n",
    "num = eval(input(\"Please input a number to find the preceeding fibonacci series:\"))\n",
    "for i in range(num):\n",
    "    if i<= 0:\n",
    "        series.append(i)\n",
    "    elif i==1:\n",
    "        series.append(i)\n",
    "    else:\n",
    "        nextnum = series[i-1] + series[i-2]\n",
    "        series.append(nextnum)\n",
    "print(series)"
   ]
  },
  {
   "cell_type": "code",
   "execution_count": 15,
   "id": "c43c0964",
   "metadata": {},
   "outputs": [
    {
     "name": "stdout",
     "output_type": "stream",
     "text": [
      "Please input a number to find the preceeding fibonacci series:-5\n"
     ]
    }
   ],
   "source": [
    "#using recussive function:\n",
    "\n",
    "def fibseries(n):\n",
    "    if n <= 0:\n",
    "        return 0\n",
    "    elif n == 1:\n",
    "        return 1\n",
    "    else:\n",
    "        return fibseries(n-1)+fibseries(n-2)\n",
    "    \n",
    "num = eval(input(\"Please input a number to find the preceeding fibonacci series:\"))\n",
    "for number in range(num):\n",
    "    print(fibseries(number))"
   ]
  },
  {
   "cell_type": "code",
   "execution_count": 55,
   "id": "6ed35191",
   "metadata": {
    "id": "0446442e"
   },
   "outputs": [
    {
     "name": "stdout",
     "output_type": "stream",
     "text": [
      "Please enter the number to check if it is armstrong number: 153\n"
     ]
    },
    {
     "data": {
      "text/plain": [
       "'Amstrong Number'"
      ]
     },
     "execution_count": 55,
     "metadata": {},
     "output_type": "execute_result"
    }
   ],
   "source": [
    "### 4. Write a Python Program to Check Armstrong Number?\n",
    "\n",
    "# with string a Input type \n",
    "inputvalue = input(\"Please enter the number to check if it is armstrong number: \")\n",
    "\n",
    "digitscount = len(inputvalue)\n",
    "resultvalue = 0\n",
    "\n",
    "for i in range(digitscount):\n",
    "    resultvalue += int(inputvalue[i])**digitscount\n",
    "\n",
    "\"Amstrong Number\" if resultvalue == int(inputvalue) else \"Not an Amstrong number\""
   ]
  },
  {
   "cell_type": "code",
   "execution_count": 68,
   "id": "1b03a468",
   "metadata": {},
   "outputs": [
    {
     "name": "stdout",
     "output_type": "stream",
     "text": [
      "Please enter the number to check if it is armstrong number: 1524\n"
     ]
    },
    {
     "data": {
      "text/plain": [
       "'Not an Armstrong Number'"
      ]
     },
     "execution_count": 68,
     "metadata": {},
     "output_type": "execute_result"
    }
   ],
   "source": [
    "# with int as input type\n",
    "\n",
    "inputvalue = eval(input(\"Please enter the number to check if it is armstrong number: \"))\n",
    "\n",
    "digitscount = 0\n",
    "tempvalue1 = inputvalue\n",
    "tempvalue2 = inputvalue\n",
    "resultvalue = 0\n",
    "\n",
    "while tempvalue1>0:\n",
    "    tempvalue1 = int(tempvalue1/10)\n",
    "    digitscount += 1\n",
    "\n",
    "while tempvalue2>0:\n",
    "    lastnum = tempvalue2%10\n",
    "    resultvalue += lastnum**digitscount\n",
    "    tempvalue2 = int(tempvalue2//10)\n",
    "\n",
    "\"Armstrong number\" if resultvalue == inputvalue else \"Not an Armstrong Number\""
   ]
  },
  {
   "cell_type": "code",
   "execution_count": 10,
   "id": "28c1e1bb",
   "metadata": {
    "id": "a6f9adfe"
   },
   "outputs": [
    {
     "name": "stdout",
     "output_type": "stream",
     "text": [
      "Enter the first value of interval: 1\n",
      "Enter the end value of interval: 200\n",
      "Armstrong Number 1\n",
      "Armstrong Number 2\n",
      "Armstrong Number 3\n",
      "Armstrong Number 4\n",
      "Armstrong Number 5\n",
      "Armstrong Number 6\n",
      "Armstrong Number 7\n",
      "Armstrong Number 8\n",
      "Armstrong Number 9\n",
      "Armstrong Number 153\n"
     ]
    }
   ],
   "source": [
    "### 5. Write a Python Program to Find Armstrong Number in an Interval?\n",
    "\n",
    "intervalstart = eval(input(\"Enter the first value of interval: \"))\n",
    "intervalend = eval(input(\"Enter the end value of interval: \"))\n",
    "                  \n",
    "for currentvalue in range(intervalstart,intervalend):\n",
    "    digits = len(str(currentvalue))\n",
    "    resultvalue = 0\n",
    "    for index in range(digits):\n",
    "        resultvalue += int(str(currentvalue)[index])**digits\n",
    "    if resultvalue == currentvalue:\n",
    "        print(\"Armstrong Number\",currentvalue)\n",
    "        "
   ]
  },
  {
   "cell_type": "code",
   "execution_count": null,
   "id": "ce160217",
   "metadata": {
    "id": "qbmbp0_822o1"
   },
   "outputs": [],
   "source": []
  },
  {
   "cell_type": "code",
   "execution_count": 17,
   "id": "e01e1197",
   "metadata": {
    "id": "157cad60"
   },
   "outputs": [
    {
     "name": "stdout",
     "output_type": "stream",
     "text": [
      "Enter the number to get sum of natural numbers: 12\n",
      "Sum of Natural numbers till  12  is: 78\n"
     ]
    }
   ],
   "source": [
    "### 6. Write a Python Program to Find the Sum of Natural Numbers?\n",
    "\n",
    "inputnumber = eval(input(\"Enter the number to get sum of natural numbers: \"))\n",
    "\n",
    "def precedentssum(n):\n",
    "    if n<=0:\n",
    "        return 0\n",
    "    else:\n",
    "        return n + precedentssum(n-1)\n",
    "\n",
    "result = precedentssum(inputnumber)\n",
    "print(\"Sum of Natural numbers till \",inputnumber,\" is:\", result)"
   ]
  },
  {
   "cell_type": "code",
   "execution_count": null,
   "id": "a06b33cc",
   "metadata": {},
   "outputs": [],
   "source": []
  },
  {
   "cell_type": "code",
   "execution_count": null,
   "id": "5d814020",
   "metadata": {},
   "outputs": [],
   "source": []
  }
 ],
 "metadata": {
  "colab": {
   "provenance": []
  },
  "kernelspec": {
   "display_name": "Python 3 (ipykernel)",
   "language": "python",
   "name": "python3"
  },
  "language_info": {
   "codemirror_mode": {
    "name": "ipython",
    "version": 3
   },
   "file_extension": ".py",
   "mimetype": "text/x-python",
   "name": "python",
   "nbconvert_exporter": "python",
   "pygments_lexer": "ipython3",
   "version": "3.9.13"
  }
 },
 "nbformat": 4,
 "nbformat_minor": 5
}
